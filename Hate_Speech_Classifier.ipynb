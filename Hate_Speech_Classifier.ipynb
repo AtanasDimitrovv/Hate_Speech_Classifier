{
 "cells": [
  {
   "cell_type": "code",
   "execution_count": 1,
   "id": "3bda7d7c",
   "metadata": {},
   "outputs": [],
   "source": [
    "import pandas as pd\n",
    "from sklearn.feature_extraction.text import CountVectorizer\n",
    "from sklearn.tree import DecisionTreeClassifier\n",
    "from sklearn.model_selection import train_test_split\n",
    "import numpy as np\n",
    "import seaborn as sns\n",
    "import matplotlib.pyplot as plt\n",
    "from sklearn.ensemble import RandomForestClassifier\n",
    "from sklearn.linear_model import LogisticRegression\n",
    "from sklearn.metrics import classification_report\n",
    "from sklearn.metrics import f1_score\n",
    "from sklearn.naive_bayes import MultinomialNB\n",
    "from sklearn import svm\n",
    "from sklearn.feature_extraction.text import TfidfVectorizer"
   ]
  },
  {
   "cell_type": "code",
   "execution_count": 2,
   "id": "8f93f319",
   "metadata": {},
   "outputs": [],
   "source": [
    "# Read the contents of the CSV file into a Pandas DataFrame\n",
    "df = pd.read_csv('labeled_data.csv',\n",
    "                      names=['Index','Count','Hate_speech','Offensive_language','Neither','Class','Tweet'], \n",
    "                      header=0, index_col=0)"
   ]
  },
  {
   "cell_type": "code",
   "execution_count": 3,
   "id": "1b8512f1",
   "metadata": {},
   "outputs": [
    {
     "name": "stdout",
     "output_type": "stream",
     "text": [
      "Index(['Count', 'Hate_speech', 'Offensive_language', 'Neither', 'Class',\n",
      "       'Tweet'],\n",
      "      dtype='object')\n"
     ]
    }
   ],
   "source": [
    "print(df.columns)"
   ]
  },
  {
   "cell_type": "code",
   "execution_count": 4,
   "id": "27c8ee33",
   "metadata": {},
   "outputs": [],
   "source": [
    "# The data is in the following format\n",
    "\n",
    "# \"Count\" - number of CrowdFlower users who judged each tweet\n",
    "\n",
    "# \"Hate_speech\" - number of CF users who judged the tweet to be hate speech\n",
    "\n",
    "# \"Offensive_language\" - number of CF users who judged the tweet to be offensive\n",
    "\n",
    "# \"Neither\" - number of CF users who judged the tweet to be neither offensive nor non-offensive\n",
    "\n",
    "# \"Class\" - class label for majority of CF users. 0 - hate speech 1 - offensive language 2 - neither\n",
    "\n",
    "# \"Tweet\" - text tweet\n",
    "\n",
    "\n",
    "# As the columns give too much information to the model we will be using just the text for tweets\n",
    "# and the class of each tweet"
   ]
  },
  {
   "cell_type": "code",
   "execution_count": 5,
   "id": "801eac60",
   "metadata": {},
   "outputs": [
    {
     "data": {
      "image/png": "[encoded data removed]",
      "text/plain": [
       "<Figure size 432x288 with 1 Axes>"
      ]
     },
     "metadata": {
      "needs_background": "light"
     },
     "output_type": "display_data"
    }
   ],
   "source": [
    "sns.countplot(data=df, x='Class');"
   ]
  },
  {
   "cell_type": "code",
   "execution_count": 6,
   "id": "e092bee2",
   "metadata": {},
   "outputs": [
    {
     "name": "stdout",
     "output_type": "stream",
     "text": [
      "13593\n"
     ]
    }
   ],
   "source": [
    "# As there are many \"offensive\" tweets and few \"hate\" or \"neither\" tweets, we will make sure to take all of them\n",
    "# and then take subset of the \"offensive\" ones\n",
    "\n",
    "dataset = df[(df.Class == 2) | (df.Class == 0)]\n",
    "\n",
    "dataset = dataset.append(df[df.Class == 1].head(8000))\n",
    "\n",
    "number_of_data_examples = dataset.shape[0]\n",
    "\n",
    "print(number_of_data_examples)"
   ]
  },
  {
   "cell_type": "code",
   "execution_count": 7,
   "id": "bfcb98f0",
   "metadata": {},
   "outputs": [
    {
     "data": {
      "image/png": "[encoded data removed]",
      "text/plain": [
       "<Figure size 432x288 with 1 Axes>"
      ]
     },
     "metadata": {
      "needs_background": "light"
     },
     "output_type": "display_data"
    }
   ],
   "source": [
    "sns.countplot(data=dataset, x='Class');"
   ]
  },
  {
   "cell_type": "code",
   "execution_count": 8,
   "id": "1ebe4e26",
   "metadata": {},
   "outputs": [
    {
     "name": "stdout",
     "output_type": "stream",
     "text": [
      "[0.10520120650334731, 0.5885382182005444, 0.3062605752961083]\n"
     ]
    }
   ],
   "source": [
    "# Percentage of [\"hate\", \"offensive\", \"neither\"] tweets\n",
    "\n",
    "print(list((\n",
    "    sum((dataset.Class == 0).astype(int)) / number_of_data_examples, \n",
    "    sum((dataset.Class == 1).astype(int)) / number_of_data_examples,\n",
    "    sum((dataset.Class == 2).astype(int)) / number_of_data_examples)))"
   ]
  },
  {
   "cell_type": "code",
   "execution_count": 9,
   "id": "96c47474",
   "metadata": {},
   "outputs": [
    {
     "name": "stdout",
     "output_type": "stream",
     "text": [
      "a        4534\n",
      "the      3756\n",
      "I        3564\n",
      "bitch    2829\n",
      "to       2779\n",
      "you      2541\n",
      "and      2089\n",
      "RT       1857\n",
      "that     1654\n",
      "in       1613\n",
      "is       1518\n",
      "my       1501\n",
      "of       1428\n",
      "like     1260\n",
      "on       1215\n",
      "dtype: int64\n"
     ]
    }
   ],
   "source": [
    "all_words = dataset['Tweet'].str.split(expand=True).unstack().value_counts()\n",
    "\n",
    "print(all_words.head(15))"
   ]
  },
  {
   "cell_type": "code",
   "execution_count": 10,
   "id": "a37a0a0c",
   "metadata": {},
   "outputs": [],
   "source": [
    "# As there are many stop words we will remove them\n",
    "\n",
    "# Convert the text column into a numerical representation using CountVectorizer\n",
    "\n",
    "vectorizer = CountVectorizer(stop_words='english')\n",
    "text_column = vectorizer.fit_transform(dataset['Tweet'].tolist())"
   ]
  },
  {
   "cell_type": "code",
   "execution_count": 11,
   "id": "7fb46b57",
   "metadata": {},
   "outputs": [
    {
     "data": {
      "text/plain": [
       "[('rt', 19152),\n",
       " ('mayasolovely', 14455),\n",
       " ('woman', 24581),\n",
       " ('shouldn', 20098),\n",
       " ('complain', 5499),\n",
       " ('cleaning', 5212),\n",
       " ('house', 10734),\n",
       " ('amp', 2034),\n",
       " ('man', 14196),\n",
       " ('trash', 22784)]"
      ]
     },
     "execution_count": 11,
     "metadata": {},
     "output_type": "execute_result"
    }
   ],
   "source": [
    "list(vectorizer.vocabulary_.items())[:10]"
   ]
  },
  {
   "cell_type": "code",
   "execution_count": 12,
   "id": "0e7b9b18",
   "metadata": {},
   "outputs": [],
   "source": [
    "X = text_column.toarray()\n",
    "y = dataset['Class'].tolist()"
   ]
  },
  {
   "cell_type": "code",
   "execution_count": 13,
   "id": "c20283fe",
   "metadata": {},
   "outputs": [],
   "source": [
    "# Split the data into training, validation and testing sets\n",
    "\n",
    "X_train, X_test, y_train, y_test = train_test_split(X, y, test_size=0.2, random_state=42)\n",
    "X_val, X_test, y_val, y_test = train_test_split(X_test, y_test, test_size = 0.5, random_state=42)"
   ]
  },
  {
   "cell_type": "markdown",
   "id": "bad095cc",
   "metadata": {},
   "source": [
    "# Decision Tree Classifier"
   ]
  },
  {
   "cell_type": "code",
   "execution_count": 86,
   "id": "a3ff4b4c",
   "metadata": {},
   "outputs": [],
   "source": [
    "# We will be using f1 score as our main metric because it is better with inbalanced sets\n",
    "# such as this one (even thouth we balanced it a bit because it is slow to work with all the data)"
   ]
  },
  {
   "cell_type": "code",
   "execution_count": 14,
   "id": "292dbc1a",
   "metadata": {},
   "outputs": [],
   "source": [
    "def plot_tree_scores(depths):\n",
    "    train_scores = []\n",
    "    test_scores = []\n",
    "    \n",
    "    for d in depths:\n",
    "        clf = DecisionTreeClassifier(max_depth=d).fit(X_train, y_train)\n",
    "        train_score = f1_score(y_train, clf.predict(X_train), average='macro')\n",
    "        test_score = f1_score(y_val, clf.predict(X_val), average='macro')\n",
    "        \n",
    "        train_scores.append(train_score)\n",
    "        test_scores.append(test_score)\n",
    "\n",
    "    plt.figure(figsize=(10, 6))\n",
    "    plt.plot(depths, train_scores, color='blue', label='train score')\n",
    "    plt.plot(depths, test_scores, color='green', label='test score')\n",
    "    plt.legend()"
   ]
  },
  {
   "cell_type": "code",
   "execution_count": 15,
   "id": "4fcc3905",
   "metadata": {},
   "outputs": [
    {
     "data": {
      "image/png": "[encoded data removed]",
      "text/plain": [
       "<Figure size 720x432 with 1 Axes>"
      ]
     },
     "metadata": {
      "needs_background": "light"
     },
     "output_type": "display_data"
    }
   ],
   "source": [
    "plot_tree_scores(range(35, 50, 5))"
   ]
  },
  {
   "cell_type": "code",
   "execution_count": 16,
   "id": "d66b4f7e",
   "metadata": {},
   "outputs": [
    {
     "data": {
      "text/plain": [
       "DecisionTreeClassifier(max_depth=35)"
      ]
     },
     "execution_count": 16,
     "metadata": {},
     "output_type": "execute_result"
    }
   ],
   "source": [
    "# Train a decision tree classifier on the training data\n",
    "\n",
    "dt_clf = DecisionTreeClassifier(max_depth=35)\n",
    "dt_clf.fit(X_train, y_train)"
   ]
  },
  {
   "cell_type": "code",
   "execution_count": 17,
   "id": "9133d88f",
   "metadata": {},
   "outputs": [
    {
     "name": "stdout",
     "output_type": "stream",
     "text": [
      "Train Set Accuracy: 0.9393967261357367\n",
      "Validation Set Accuracy: 0.8712288447387785\n"
     ]
    }
   ],
   "source": [
    "# Evaluate the classifier on the training data\n",
    "\n",
    "train_score_dt = dt_clf.score(X_train, y_train)\n",
    "print(\"Train Set Accuracy:\", train_score_dt)\n",
    "\n",
    "# Evaluate the classifier on the validation data\n",
    "val_score_dt = dt_clf.score(X_val, y_val)\n",
    "print(\"Validation Set Accuracy:\", val_score_dt)"
   ]
  },
  {
   "cell_type": "code",
   "execution_count": 18,
   "id": "294d0593",
   "metadata": {},
   "outputs": [
    {
     "name": "stdout",
     "output_type": "stream",
     "text": [
      "              precision    recall  f1-score   support\n",
      "\n",
      "        hate       0.64      0.45      0.53       153\n",
      "     offense       0.90      0.91      0.91       778\n",
      "     neither       0.87      0.95      0.91       428\n",
      "\n",
      "    accuracy                           0.87      1359\n",
      "   macro avg       0.81      0.77      0.78      1359\n",
      "weighted avg       0.86      0.87      0.86      1359\n",
      "\n"
     ]
    }
   ],
   "source": [
    "print(classification_report(y_val, dt_clf.predict(X_val), target_names=['hate', 'offense', 'neither']))"
   ]
  },
  {
   "cell_type": "code",
   "execution_count": 30,
   "id": "d0e0702d",
   "metadata": {},
   "outputs": [
    {
     "name": "stdout",
     "output_type": "stream",
     "text": [
      "    model  accuracy  f1:hate  weighted_F1\n",
      "0  CVDT35      0.87     0.53         0.86\n"
     ]
    }
   ],
   "source": [
    "res = {'model': ['CVDT35'], 'accuracy': [0.87], 'f1:hate': [0.53], 'weighted_F1': [0.86]}\n",
    "\n",
    "results = pd.DataFrame(res)\n",
    "\n",
    "print(results)"
   ]
  },
  {
   "cell_type": "markdown",
   "id": "e270f934",
   "metadata": {},
   "source": [
    "# Random Forest Classifier"
   ]
  },
  {
   "cell_type": "code",
   "execution_count": 24,
   "id": "5b2e40a9",
   "metadata": {},
   "outputs": [
    {
     "data": {
      "text/plain": [
       "RandomForestClassifier()"
      ]
     },
     "execution_count": 24,
     "metadata": {},
     "output_type": "execute_result"
    }
   ],
   "source": [
    "# Train a random forest classifier on the training data\n",
    "\n",
    "rf_clf = RandomForestClassifier()\n",
    "rf_clf.fit(X_train, y_train)"
   ]
  },
  {
   "cell_type": "code",
   "execution_count": 25,
   "id": "df463399",
   "metadata": {},
   "outputs": [
    {
     "name": "stdout",
     "output_type": "stream",
     "text": [
      "Train Set Accuracy: 0.9997241125620747\n",
      "Validation Set Accuracy: 0.8675496688741722\n"
     ]
    }
   ],
   "source": [
    "# Evaluate the classifier on the training data\n",
    "\n",
    "train_score_rf = rf_clf.score(X_train, y_train)\n",
    "print(\"Train Set Accuracy:\", train_score_rf)\n",
    "\n",
    "# Evaluate the classifier on the validation data\n",
    "val_score_rf = rf_clf.score(X_val, y_val)\n",
    "print(\"Validation Set Accuracy:\", val_score_rf)"
   ]
  },
  {
   "cell_type": "code",
   "execution_count": 26,
   "id": "e193bcda",
   "metadata": {},
   "outputs": [
    {
     "name": "stdout",
     "output_type": "stream",
     "text": [
      "              precision    recall  f1-score   support\n",
      "\n",
      "        hate       0.67      0.42      0.52       153\n",
      "     offense       0.88      0.93      0.91       778\n",
      "     neither       0.89      0.91      0.90       428\n",
      "\n",
      "    accuracy                           0.87      1359\n",
      "   macro avg       0.81      0.76      0.77      1359\n",
      "weighted avg       0.86      0.87      0.86      1359\n",
      "\n"
     ]
    }
   ],
   "source": [
    "print(classification_report(y_val, rf_clf.predict(X_val), target_names=['hate', 'offense', 'neither']))"
   ]
  },
  {
   "cell_type": "code",
   "execution_count": 31,
   "id": "68baa4c4",
   "metadata": {},
   "outputs": [
    {
     "name": "stdout",
     "output_type": "stream",
     "text": [
      "    model  accuracy  f1:hate  weighted_F1\n",
      "0  CVDT35      0.87     0.53         0.86\n",
      "1    CVRF      0.87     0.52         0.86\n"
     ]
    }
   ],
   "source": [
    "new_row = pd.Series(['CVRF', 0.87, 0.52, 0.86], index=['model', 'accuracy', 'f1:hate', 'weighted_F1'])\n",
    "results = results.append(new_row, ignore_index=True)\n",
    "\n",
    "print(results)"
   ]
  },
  {
   "cell_type": "markdown",
   "id": "f37d1b58",
   "metadata": {},
   "source": [
    "# Stemming"
   ]
  },
  {
   "cell_type": "code",
   "execution_count": 32,
   "id": "97ba5252",
   "metadata": {},
   "outputs": [
    {
     "name": "stderr",
     "output_type": "stream",
     "text": [
      "[nltk_data] Downloading package punkt to\n",
      "[nltk_data]     C:\\Users\\Dell\\AppData\\Roaming\\nltk_data...\n",
      "[nltk_data]   Package punkt is already up-to-date!\n",
      "[nltk_data] Downloading package stopwords to\n",
      "[nltk_data]     C:\\Users\\Dell\\AppData\\Roaming\\nltk_data...\n",
      "[nltk_data]   Package stopwords is already up-to-date!\n"
     ]
    }
   ],
   "source": [
    "import nltk\n",
    "nltk.download('punkt')\n",
    "nltk.download('stopwords')\n",
    "from nltk.corpus import stopwords\n",
    "from nltk.stem import PorterStemmer"
   ]
  },
  {
   "cell_type": "code",
   "execution_count": 33,
   "id": "83c16e7d",
   "metadata": {},
   "outputs": [],
   "source": [
    "def preprocessor(text):\n",
    "    stemmer = PorterStemmer()\n",
    "    stop_words = set(stopwords.words(\"english\"))\n",
    "    tokens = nltk.word_tokenize(text)\n",
    "    stemmed_tokens = [stemmer.stem(token) for token in tokens if token.lower() not in stop_words]\n",
    "    return ' '.join(stemmed_tokens)"
   ]
  },
  {
   "cell_type": "code",
   "execution_count": 34,
   "id": "f588aeda",
   "metadata": {},
   "outputs": [],
   "source": [
    "vectorizer = CountVectorizer(preprocessor=preprocessor)\n",
    "text_column_new = vectorizer.fit_transform(dataset['Tweet'].tolist())"
   ]
  },
  {
   "cell_type": "code",
   "execution_count": 35,
   "id": "c88881f2",
   "metadata": {},
   "outputs": [
    {
     "data": {
      "text/plain": [
       "[('rt', 16933),\n",
       " ('mayasolov', 12872),\n",
       " ('woman', 21671),\n",
       " ('complain', 4960),\n",
       " ('clean', 4720),\n",
       " ('hous', 9458),\n",
       " ('amp', 1975),\n",
       " ('man', 12635),\n",
       " ('alway', 1896),\n",
       " ('take', 19046)]"
      ]
     },
     "execution_count": 35,
     "metadata": {},
     "output_type": "execute_result"
    }
   ],
   "source": [
    "list(vectorizer.vocabulary_.items())[:10]"
   ]
  },
  {
   "cell_type": "code",
   "execution_count": 36,
   "id": "d6d1dba4",
   "metadata": {},
   "outputs": [],
   "source": [
    "X = text_column.toarray()\n",
    "y = dataset['Class'].tolist()"
   ]
  },
  {
   "cell_type": "code",
   "execution_count": 37,
   "id": "03db5256",
   "metadata": {},
   "outputs": [],
   "source": [
    "# Split the data into training, validation and testing sets\n",
    "\n",
    "X_train, X_test, y_train, y_test = train_test_split(X, y, test_size=0.2, random_state=42)\n",
    "X_val, X_test, y_val, y_test = train_test_split(X_test, y_test, test_size = 0.5, random_state=42)"
   ]
  },
  {
   "cell_type": "markdown",
   "id": "b807d59c",
   "metadata": {},
   "source": [
    "# Decision Tree Classifier"
   ]
  },
  {
   "cell_type": "code",
   "execution_count": 38,
   "id": "a0905d68",
   "metadata": {},
   "outputs": [
    {
     "data": {
      "image/png": "[encoded data removed]",
      "text/plain": [
       "<Figure size 720x432 with 1 Axes>"
      ]
     },
     "metadata": {
      "needs_background": "light"
     },
     "output_type": "display_data"
    }
   ],
   "source": [
    "plot_tree_scores(range(50, 70, 5))"
   ]
  },
  {
   "cell_type": "code",
   "execution_count": 39,
   "id": "6e297ad4",
   "metadata": {},
   "outputs": [
    {
     "data": {
      "text/plain": [
       "DecisionTreeClassifier(max_depth=50)"
      ]
     },
     "execution_count": 39,
     "metadata": {},
     "output_type": "execute_result"
    }
   ],
   "source": [
    "# Train a decision tree classifier on the training data\n",
    "\n",
    "dt_clf = DecisionTreeClassifier(max_depth=50)\n",
    "dt_clf.fit(X_train, y_train)"
   ]
  },
  {
   "cell_type": "code",
   "execution_count": 40,
   "id": "552b6efd",
   "metadata": {},
   "outputs": [
    {
     "name": "stdout",
     "output_type": "stream",
     "text": [
      "Train Set Accuracy: 0.9601802464594446\n",
      "Validation Set Accuracy: 0.8646063281824872\n"
     ]
    }
   ],
   "source": [
    "# Evaluate the classifier on the training data\n",
    "\n",
    "train_score_dt = dt_clf.score(X_train, y_train)\n",
    "print(\"Train Set Accuracy:\", train_score_dt)\n",
    "\n",
    "# Evaluate the classifier on the validation data\n",
    "val_score_dt = dt_clf.score(X_val, y_val)\n",
    "print(\"Validation Set Accuracy:\", val_score_dt)"
   ]
  },
  {
   "cell_type": "code",
   "execution_count": 41,
   "id": "989e199a",
   "metadata": {},
   "outputs": [
    {
     "name": "stdout",
     "output_type": "stream",
     "text": [
      "              precision    recall  f1-score   support\n",
      "\n",
      "        hate       0.61      0.44      0.51       153\n",
      "     offense       0.90      0.91      0.90       778\n",
      "     neither       0.86      0.94      0.90       428\n",
      "\n",
      "    accuracy                           0.86      1359\n",
      "   macro avg       0.79      0.76      0.77      1359\n",
      "weighted avg       0.86      0.86      0.86      1359\n",
      "\n"
     ]
    }
   ],
   "source": [
    "print(classification_report(y_val, dt_clf.predict(X_val), target_names=['hate', 'offense', 'neither']))"
   ]
  },
  {
   "cell_type": "code",
   "execution_count": 42,
   "id": "925d559b",
   "metadata": {},
   "outputs": [],
   "source": [
    "new_row = pd.Series(['CVSTEMDT', 0.86, 0.51, 0.86], index=['model', 'accuracy', 'f1:hate', 'weighted_F1'])\n",
    "results = results.append(new_row, ignore_index=True)"
   ]
  },
  {
   "cell_type": "markdown",
   "id": "9451d7a1",
   "metadata": {},
   "source": [
    "# Random Forest Classifier"
   ]
  },
  {
   "cell_type": "code",
   "execution_count": 43,
   "id": "51d3a0dd",
   "metadata": {},
   "outputs": [
    {
     "data": {
      "text/plain": [
       "RandomForestClassifier()"
      ]
     },
     "execution_count": 43,
     "metadata": {},
     "output_type": "execute_result"
    }
   ],
   "source": [
    "# Train a random forest classifier on the training data\n",
    "\n",
    "rf_clf = RandomForestClassifier()\n",
    "rf_clf.fit(X_train, y_train)"
   ]
  },
  {
   "cell_type": "code",
   "execution_count": 44,
   "id": "60d35e36",
   "metadata": {},
   "outputs": [
    {
     "name": "stdout",
     "output_type": "stream",
     "text": [
      "Train Set Accuracy: 0.9996321500827662\n",
      "Validation Set Accuracy: 0.8668138337012509\n"
     ]
    }
   ],
   "source": [
    "# Evaluate the classifier on the training data\n",
    "\n",
    "train_score_rf = rf_clf.score(X_train, y_train)\n",
    "print(\"Train Set Accuracy:\", train_score_rf)\n",
    "\n",
    "# Evaluate the classifier on the validation data\n",
    "val_score_rf = rf_clf.score(X_val, y_val)\n",
    "print(\"Validation Set Accuracy:\", val_score_rf)"
   ]
  },
  {
   "cell_type": "code",
   "execution_count": 45,
   "id": "cd466f6a",
   "metadata": {},
   "outputs": [
    {
     "name": "stdout",
     "output_type": "stream",
     "text": [
      "              precision    recall  f1-score   support\n",
      "\n",
      "        hate       0.66      0.41      0.51       153\n",
      "     offense       0.88      0.92      0.90       778\n",
      "     neither       0.88      0.93      0.90       428\n",
      "\n",
      "    accuracy                           0.87      1359\n",
      "   macro avg       0.81      0.75      0.77      1359\n",
      "weighted avg       0.86      0.87      0.86      1359\n",
      "\n"
     ]
    }
   ],
   "source": [
    "print(classification_report(y_val, rf_clf.predict(X_val), target_names=['hate', 'offense', 'neither']))"
   ]
  },
  {
   "cell_type": "code",
   "execution_count": 46,
   "id": "fea46d92",
   "metadata": {},
   "outputs": [],
   "source": [
    "new_row = pd.Series(['CVSTEMRF', 0.87, 0.51, 0.86], index=['model', 'accuracy', 'f1:hate', 'weighted_F1'])\n",
    "results = results.append(new_row, ignore_index=True)"
   ]
  },
  {
   "cell_type": "markdown",
   "id": "f66f8d01",
   "metadata": {},
   "source": [
    "# Naive Bayes Classifier"
   ]
  },
  {
   "cell_type": "code",
   "execution_count": 47,
   "id": "495f3e70",
   "metadata": {},
   "outputs": [
    {
     "data": {
      "text/plain": [
       "MultinomialNB()"
      ]
     },
     "execution_count": 47,
     "metadata": {},
     "output_type": "execute_result"
    }
   ],
   "source": [
    "# Train a naive bayes classifier on the training data\n",
    "\n",
    "mnb_clf = MultinomialNB()\n",
    "mnb_clf.fit(X_train, y_train)"
   ]
  },
  {
   "cell_type": "code",
   "execution_count": 48,
   "id": "5b46652c",
   "metadata": {},
   "outputs": [
    {
     "name": "stdout",
     "output_type": "stream",
     "text": [
      "Train Set Accuracy: 0.9127276071362884\n",
      "Validation Set Accuracy: 0.8219278881530537\n"
     ]
    }
   ],
   "source": [
    "# Evaluate the classifier on the training data\n",
    "\n",
    "train_score_mnb = mnb_clf.score(X_train, y_train)\n",
    "print(\"Train Set Accuracy:\", train_score_mnb)\n",
    "\n",
    "# Evaluate the classifier on the validation data\n",
    "val_score_mnb = mnb_clf.score(X_val, y_val)\n",
    "print(\"Validation Set Accuracy:\", val_score_mnb)"
   ]
  },
  {
   "cell_type": "code",
   "execution_count": 49,
   "id": "100a50d5",
   "metadata": {},
   "outputs": [
    {
     "name": "stdout",
     "output_type": "stream",
     "text": [
      "              precision    recall  f1-score   support\n",
      "\n",
      "        hate       0.48      0.20      0.29       153\n",
      "     offense       0.81      0.95      0.88       778\n",
      "     neither       0.90      0.81      0.85       428\n",
      "\n",
      "    accuracy                           0.82      1359\n",
      "   macro avg       0.73      0.65      0.67      1359\n",
      "weighted avg       0.80      0.82      0.80      1359\n",
      "\n"
     ]
    }
   ],
   "source": [
    "print(classification_report(y_val, mnb_clf.predict(X_val), target_names=['hate', 'offense', 'neither']))"
   ]
  },
  {
   "cell_type": "code",
   "execution_count": 50,
   "id": "7556d249",
   "metadata": {},
   "outputs": [
    {
     "name": "stdout",
     "output_type": "stream",
     "text": [
      "      model  accuracy  f1:hate  weighted_F1\n",
      "0    CVDT35      0.87     0.53         0.86\n",
      "1      CVRF      0.87     0.52         0.86\n",
      "2  CVSTEMDT      0.86     0.51         0.86\n",
      "3  CVSTEMRF      0.87     0.51         0.86\n",
      "4  CVSTEMNB      0.82     0.29         0.80\n"
     ]
    }
   ],
   "source": [
    "new_row = pd.Series(['CVSTEMNB', 0.82, 0.29, 0.80], index=['model', 'accuracy', 'f1:hate', 'weighted_F1'])\n",
    "results = results.append(new_row, ignore_index=True)\n",
    "\n",
    "print(results)"
   ]
  },
  {
   "cell_type": "markdown",
   "id": "540f70bc",
   "metadata": {},
   "source": [
    "# SVM Classifier"
   ]
  },
  {
   "cell_type": "code",
   "execution_count": 51,
   "id": "9552826a",
   "metadata": {},
   "outputs": [],
   "source": [
    "def plot_svm_scores(depths):\n",
    "    train_scores = []\n",
    "    test_scores = []\n",
    "    \n",
    "    for d in depths:\n",
    "        clf = svm.LinearSVC(C=d, penalty='l2').fit(X_train, y_train)\n",
    "        train_score = f1_score(y_train, clf.predict(X_train), average='macro')\n",
    "        test_score = f1_score(y_val, clf.predict(X_val), average='macro')\n",
    "        \n",
    "        train_scores.append(train_score)\n",
    "        test_scores.append(test_score)\n",
    "\n",
    "    plt.figure(figsize=(10, 6))\n",
    "    plt.plot(depths, train_scores, color='blue', label='train score')\n",
    "    plt.plot(depths, test_scores, color='green', label='test score')\n",
    "    plt.legend()"
   ]
  },
  {
   "cell_type": "code",
   "execution_count": 52,
   "id": "efb8abc7",
   "metadata": {},
   "outputs": [
    {
     "name": "stderr",
     "output_type": "stream",
     "text": [
      "C:\\Users\\Dell\\anaconda3\\lib\\site-packages\\sklearn\\svm\\_base.py:985: ConvergenceWarning: Liblinear failed to converge, increase the number of iterations.\n",
      "  warnings.warn(\"Liblinear failed to converge, increase \"\n"
     ]
    },
    {
     "data": {
      "image/png": "[encoded data removed]",
      "text/plain": [
       "<Figure size 720x432 with 1 Axes>"
      ]
     },
     "metadata": {
      "needs_background": "light"
     },
     "output_type": "display_data"
    }
   ],
   "source": [
    "plot_svm_scores(list((0.001, 0.01, 0.1, 1, 10)))"
   ]
  },
  {
   "cell_type": "code",
   "execution_count": 53,
   "id": "16a3253c",
   "metadata": {},
   "outputs": [
    {
     "data": {
      "text/plain": [
       "LinearSVC(C=0.1)"
      ]
     },
     "execution_count": 53,
     "metadata": {},
     "output_type": "execute_result"
    }
   ],
   "source": [
    "# Train a svm classifier on the training data\n",
    "\n",
    "svm_clf = svm.LinearSVC(C=0.1)\n",
    "svm_clf.fit(X_train, y_train)"
   ]
  },
  {
   "cell_type": "code",
   "execution_count": 54,
   "id": "bd97e1e3",
   "metadata": {},
   "outputs": [
    {
     "name": "stdout",
     "output_type": "stream",
     "text": [
      "Train Set Accuracy: 0.9691006069523634\n",
      "Validation Set Accuracy: 0.8668138337012509\n"
     ]
    }
   ],
   "source": [
    "# Evaluate the classifier on the training data\n",
    "\n",
    "train_score_svm = svm_clf.score(X_train, y_train)\n",
    "print(\"Train Set Accuracy:\", train_score_svm)\n",
    "\n",
    "# Evaluate the classifier on the validation data\n",
    "val_score_svm = svm_clf.score(X_val, y_val)\n",
    "print(\"Validation Set Accuracy:\", val_score_svm)"
   ]
  },
  {
   "cell_type": "code",
   "execution_count": 55,
   "id": "76a7bf24",
   "metadata": {},
   "outputs": [
    {
     "name": "stdout",
     "output_type": "stream",
     "text": [
      "              precision    recall  f1-score   support\n",
      "\n",
      "        hate       0.65      0.44      0.53       153\n",
      "     offense       0.90      0.91      0.90       778\n",
      "     neither       0.87      0.94      0.90       428\n",
      "\n",
      "    accuracy                           0.87      1359\n",
      "   macro avg       0.80      0.76      0.78      1359\n",
      "weighted avg       0.86      0.87      0.86      1359\n",
      "\n"
     ]
    }
   ],
   "source": [
    "print(classification_report(y_val, svm_clf.predict(X_val), target_names=['hate', 'offense', 'neither']))"
   ]
  },
  {
   "cell_type": "code",
   "execution_count": 56,
   "id": "62c7d201",
   "metadata": {},
   "outputs": [],
   "source": [
    "new_row = pd.Series(['CVSTEMSVM01', 0.87, 0.53, 0.86], index=['model', 'accuracy', 'f1:hate', 'weighted_F1'])\n",
    "results = results.append(new_row, ignore_index=True)"
   ]
  },
  {
   "cell_type": "markdown",
   "id": "d1cd2a2b",
   "metadata": {},
   "source": [
    "# TfidfVectorizer"
   ]
  },
  {
   "cell_type": "code",
   "execution_count": 57,
   "id": "54c2dc59",
   "metadata": {},
   "outputs": [],
   "source": [
    "vectorizer = TfidfVectorizer(preprocessor=preprocessor)\n",
    "text_column_new = vectorizer.fit_transform(dataset['Tweet'].tolist())"
   ]
  },
  {
   "cell_type": "code",
   "execution_count": 58,
   "id": "84f879bc",
   "metadata": {},
   "outputs": [
    {
     "data": {
      "text/plain": [
       "[('rt', 16933),\n",
       " ('mayasolov', 12872),\n",
       " ('woman', 21671),\n",
       " ('complain', 4960),\n",
       " ('clean', 4720),\n",
       " ('hous', 9458),\n",
       " ('amp', 1975),\n",
       " ('man', 12635),\n",
       " ('alway', 1896),\n",
       " ('take', 19046)]"
      ]
     },
     "execution_count": 58,
     "metadata": {},
     "output_type": "execute_result"
    }
   ],
   "source": [
    "list(vectorizer.vocabulary_.items())[:10]"
   ]
  },
  {
   "cell_type": "code",
   "execution_count": 59,
   "id": "8003daf9",
   "metadata": {},
   "outputs": [],
   "source": [
    "X = text_column.toarray()\n",
    "y = dataset['Class'].tolist()"
   ]
  },
  {
   "cell_type": "code",
   "execution_count": 60,
   "id": "1722d996",
   "metadata": {},
   "outputs": [],
   "source": [
    "# Split the data into training, validation and testing sets\n",
    "\n",
    "X_train, X_test, y_train, y_test = train_test_split(X, y, test_size=0.2, random_state=42)\n",
    "X_val, X_test, y_val, y_test = train_test_split(X_test, y_test, test_size = 0.5, random_state=42)"
   ]
  },
  {
   "cell_type": "markdown",
   "id": "888abe9b",
   "metadata": {},
   "source": [
    "# Decision Tree Classifier"
   ]
  },
  {
   "cell_type": "code",
   "execution_count": 61,
   "id": "7820d2e0",
   "metadata": {},
   "outputs": [
    {
     "data": {
      "image/png": "[encoded data removed]",
      "text/plain": [
       "<Figure size 720x432 with 1 Axes>"
      ]
     },
     "metadata": {
      "needs_background": "light"
     },
     "output_type": "display_data"
    }
   ],
   "source": [
    "plot_tree_scores(range(55, 70, 5))"
   ]
  },
  {
   "cell_type": "code",
   "execution_count": 62,
   "id": "083f6c0e",
   "metadata": {},
   "outputs": [
    {
     "data": {
      "text/plain": [
       "DecisionTreeClassifier(max_depth=65)"
      ]
     },
     "execution_count": 62,
     "metadata": {},
     "output_type": "execute_result"
    }
   ],
   "source": [
    "# Train a decision tree classifier on the training data\n",
    "\n",
    "dt_clf = DecisionTreeClassifier(max_depth=65)\n",
    "dt_clf.fit(X_train, y_train)"
   ]
  },
  {
   "cell_type": "code",
   "execution_count": 63,
   "id": "79d26101",
   "metadata": {},
   "outputs": [
    {
     "name": "stdout",
     "output_type": "stream",
     "text": [
      "Train Set Accuracy: 0.9732389185212433\n",
      "Validation Set Accuracy: 0.8631346578366446\n"
     ]
    }
   ],
   "source": [
    "# Evaluate the classifier on the training data\n",
    "\n",
    "train_score_dt = dt_clf.score(X_train, y_train)\n",
    "print(\"Train Set Accuracy:\", train_score_dt)\n",
    "\n",
    "# Evaluate the classifier on the validation data\n",
    "val_score_dt = dt_clf.score(X_val, y_val)\n",
    "print(\"Validation Set Accuracy:\", val_score_dt)"
   ]
  },
  {
   "cell_type": "code",
   "execution_count": 64,
   "id": "7b063630",
   "metadata": {},
   "outputs": [
    {
     "name": "stdout",
     "output_type": "stream",
     "text": [
      "              precision    recall  f1-score   support\n",
      "\n",
      "        hate       0.62      0.47      0.54       153\n",
      "     offense       0.89      0.91      0.90       778\n",
      "     neither       0.87      0.93      0.90       428\n",
      "\n",
      "    accuracy                           0.86      1359\n",
      "   macro avg       0.80      0.77      0.78      1359\n",
      "weighted avg       0.86      0.86      0.86      1359\n",
      "\n"
     ]
    }
   ],
   "source": [
    "print(classification_report(y_val, dt_clf.predict(X_val), target_names=['hate', 'offense', 'neither']))"
   ]
  },
  {
   "cell_type": "code",
   "execution_count": 65,
   "id": "981dfe4e",
   "metadata": {},
   "outputs": [],
   "source": [
    "new_row = pd.Series(['TDSTEMDT', 0.86, 0.54, 0.86], index=['model', 'accuracy', 'f1:hate', 'weighted_F1'])\n",
    "results = results.append(new_row, ignore_index=True)"
   ]
  },
  {
   "cell_type": "markdown",
   "id": "2c848e66",
   "metadata": {},
   "source": [
    "# Random Forest Classifier"
   ]
  },
  {
   "cell_type": "code",
   "execution_count": 66,
   "id": "d2e19c1b",
   "metadata": {},
   "outputs": [],
   "source": [
    "def plot_rf_scores(depths):\n",
    "    train_scores = []\n",
    "    test_scores = []\n",
    "    \n",
    "    for d in depths:\n",
    "        clf = RandomForestClassifier(n_estimators=d).fit(X_train, y_train)\n",
    "        train_score = f1_score(y_train, clf.predict(X_train), average='macro')\n",
    "        test_score = f1_score(y_val, clf.predict(X_val), average='macro')\n",
    "        \n",
    "        train_scores.append(train_score)\n",
    "        test_scores.append(test_score)\n",
    "\n",
    "    plt.figure(figsize=(10, 6))\n",
    "    plt.plot(depths, train_scores, color='blue', label='train score')\n",
    "    plt.plot(depths, test_scores, color='green', label='test score')\n",
    "    plt.legend()"
   ]
  },
  {
   "cell_type": "code",
   "execution_count": 68,
   "id": "59143ebb",
   "metadata": {},
   "outputs": [],
   "source": [
    "#plot_rf_scores(range(100, 1000, 100))"
   ]
  },
  {
   "cell_type": "code",
   "execution_count": 67,
   "id": "9a925c1a",
   "metadata": {},
   "outputs": [
    {
     "data": {
      "text/plain": [
       "RandomForestClassifier()"
      ]
     },
     "execution_count": 67,
     "metadata": {},
     "output_type": "execute_result"
    }
   ],
   "source": [
    "# Train a random forest classifier on the training data\n",
    "\n",
    "rf_clf = RandomForestClassifier()\n",
    "rf_clf.fit(X_train, y_train)"
   ]
  },
  {
   "cell_type": "code",
   "execution_count": 69,
   "id": "b9486ebb",
   "metadata": {},
   "outputs": [
    {
     "name": "stdout",
     "output_type": "stream",
     "text": [
      "Train Set Accuracy: 0.9997241125620747\n",
      "Validation Set Accuracy: 0.869757174392936\n"
     ]
    }
   ],
   "source": [
    "# Evaluate the classifier on the training data\n",
    "\n",
    "train_score_rf = rf_clf.score(X_train, y_train)\n",
    "print(\"Train Set Accuracy:\", train_score_rf)\n",
    "\n",
    "# Evaluate the classifier on the validation data\n",
    "val_score_rf = rf_clf.score(X_val, y_val)\n",
    "print(\"Validation Set Accuracy:\", val_score_rf)"
   ]
  },
  {
   "cell_type": "code",
   "execution_count": 70,
   "id": "c5b2e195",
   "metadata": {},
   "outputs": [
    {
     "name": "stdout",
     "output_type": "stream",
     "text": [
      "              precision    recall  f1-score   support\n",
      "\n",
      "        hate       0.69      0.41      0.52       153\n",
      "     offense       0.88      0.93      0.91       778\n",
      "     neither       0.89      0.92      0.90       428\n",
      "\n",
      "    accuracy                           0.87      1359\n",
      "   macro avg       0.82      0.75      0.77      1359\n",
      "weighted avg       0.86      0.87      0.86      1359\n",
      "\n"
     ]
    }
   ],
   "source": [
    "print(classification_report(y_val, rf_clf.predict(X_val), target_names=['hate', 'offense', 'neither']))"
   ]
  },
  {
   "cell_type": "code",
   "execution_count": 71,
   "id": "c79fe42d",
   "metadata": {},
   "outputs": [],
   "source": [
    "new_row = pd.Series(['TDSTEMRF', 0.87, 0.52, 0.86], index=['model', 'accuracy', 'f1:hate', 'weighted_F1'])\n",
    "results = results.append(new_row, ignore_index=True)"
   ]
  },
  {
   "cell_type": "markdown",
   "id": "c43041b6",
   "metadata": {},
   "source": [
    "# Naive Bayes Classifier"
   ]
  },
  {
   "cell_type": "code",
   "execution_count": 72,
   "id": "6b291f40",
   "metadata": {},
   "outputs": [],
   "source": [
    "def plot_mnb_scores(depths):\n",
    "    train_scores = []\n",
    "    test_scores = []\n",
    "    \n",
    "    for d in depths:\n",
    "        clf = MultinomialNB(alpha=d).fit(X_train, y_train)\n",
    "        train_score = f1_score(y_train, clf.predict(X_train), average='macro')\n",
    "        test_score = f1_score(y_val, clf.predict(X_val), average='macro')\n",
    "        \n",
    "        train_scores.append(train_score)\n",
    "        test_scores.append(test_score)\n",
    "\n",
    "    plt.figure(figsize=(10, 6))\n",
    "    plt.plot(depths, train_scores, color='blue', label='train score')\n",
    "    plt.plot(depths, test_scores, color='green', label='test score')\n",
    "    plt.legend()"
   ]
  },
  {
   "cell_type": "code",
   "execution_count": 73,
   "id": "6e077450",
   "metadata": {},
   "outputs": [
    {
     "data": {
      "image/png": "[encoded data removed]",
      "text/plain": [
       "<Figure size 720x432 with 1 Axes>"
      ]
     },
     "metadata": {
      "needs_background": "light"
     },
     "output_type": "display_data"
    }
   ],
   "source": [
    "plot_mnb_scores(list((0.01, 0.1, 1, 10)))"
   ]
  },
  {
   "cell_type": "code",
   "execution_count": 74,
   "id": "2dde180a",
   "metadata": {},
   "outputs": [
    {
     "data": {
      "text/plain": [
       "MultinomialNB(alpha=0.1)"
      ]
     },
     "execution_count": 74,
     "metadata": {},
     "output_type": "execute_result"
    }
   ],
   "source": [
    "# Train a naive bayes classifier on the training data\n",
    "\n",
    "mnb_clf = MultinomialNB(alpha=0.1)\n",
    "mnb_clf.fit(X_train, y_train)"
   ]
  },
  {
   "cell_type": "code",
   "execution_count": 75,
   "id": "07ff7fe1",
   "metadata": {},
   "outputs": [
    {
     "name": "stdout",
     "output_type": "stream",
     "text": [
      "Train Set Accuracy: 0.9689166819937466\n",
      "Validation Set Accuracy: 0.7770419426048565\n"
     ]
    }
   ],
   "source": [
    "# Evaluate the classifier on the training data\n",
    "\n",
    "train_score_mnb = mnb_clf.score(X_train, y_train)\n",
    "print(\"Train Set Accuracy:\", train_score_mnb)\n",
    "\n",
    "# Evaluate the classifier on the validation data\n",
    "val_score_mnb = mnb_clf.score(X_val, y_val)\n",
    "print(\"Validation Set Accuracy:\", val_score_mnb)"
   ]
  },
  {
   "cell_type": "code",
   "execution_count": 76,
   "id": "55b1489d",
   "metadata": {},
   "outputs": [
    {
     "name": "stdout",
     "output_type": "stream",
     "text": [
      "              precision    recall  f1-score   support\n",
      "\n",
      "        hate       0.35      0.56      0.43       153\n",
      "     offense       0.86      0.83      0.85       778\n",
      "     neither       0.89      0.75      0.82       428\n",
      "\n",
      "    accuracy                           0.78      1359\n",
      "   macro avg       0.70      0.72      0.70      1359\n",
      "weighted avg       0.81      0.78      0.79      1359\n",
      "\n"
     ]
    }
   ],
   "source": [
    "print(classification_report(y_val, mnb_clf.predict(X_val), target_names=['hate', 'offense', 'neither']))"
   ]
  },
  {
   "cell_type": "code",
   "execution_count": 77,
   "id": "e58927c6",
   "metadata": {},
   "outputs": [],
   "source": [
    "new_row = pd.Series(['CVSTEMNB', 0.78, 0.43, 0.79], index=['model', 'accuracy', 'f1:hate', 'weighted_F1'])\n",
    "results = results.append(new_row, ignore_index=True)"
   ]
  },
  {
   "cell_type": "markdown",
   "id": "cde10dc1",
   "metadata": {},
   "source": [
    "# SVM Classifier"
   ]
  },
  {
   "cell_type": "code",
   "execution_count": 78,
   "id": "7ca1c180",
   "metadata": {},
   "outputs": [
    {
     "name": "stderr",
     "output_type": "stream",
     "text": [
      "C:\\Users\\Dell\\anaconda3\\lib\\site-packages\\sklearn\\svm\\_base.py:985: ConvergenceWarning: Liblinear failed to converge, increase the number of iterations.\n",
      "  warnings.warn(\"Liblinear failed to converge, increase \"\n"
     ]
    },
    {
     "data": {
      "image/png": "[encoded data removed]",
      "text/plain": [
       "<Figure size 720x432 with 1 Axes>"
      ]
     },
     "metadata": {
      "needs_background": "light"
     },
     "output_type": "display_data"
    }
   ],
   "source": [
    "plot_svm_scores(list((0.001, 0.01, 0.1, 1, 10)))"
   ]
  },
  {
   "cell_type": "code",
   "execution_count": 79,
   "id": "249e1bb5",
   "metadata": {},
   "outputs": [
    {
     "data": {
      "text/plain": [
       "LinearSVC(C=0.1)"
      ]
     },
     "execution_count": 79,
     "metadata": {},
     "output_type": "execute_result"
    }
   ],
   "source": [
    "# Train a svm classifier on the training data\n",
    "\n",
    "svm_clf = svm.LinearSVC(C=0.1)\n",
    "svm_clf.fit(X_train, y_train)"
   ]
  },
  {
   "cell_type": "code",
   "execution_count": 80,
   "id": "309f58b6",
   "metadata": {},
   "outputs": [
    {
     "name": "stdout",
     "output_type": "stream",
     "text": [
      "Train Set Accuracy: 0.9691006069523634\n",
      "Validation Set Accuracy: 0.8668138337012509\n"
     ]
    }
   ],
   "source": [
    "# Evaluate the classifier on the training data\n",
    "\n",
    "train_score_svm = svm_clf.score(X_train, y_train)\n",
    "print(\"Train Set Accuracy:\", train_score_svm)\n",
    "\n",
    "# Evaluate the classifier on the validation data\n",
    "val_score_svm = svm_clf.score(X_val, y_val)\n",
    "print(\"Validation Set Accuracy:\", val_score_svm)"
   ]
  },
  {
   "cell_type": "code",
   "execution_count": 81,
   "id": "6331f464",
   "metadata": {},
   "outputs": [
    {
     "name": "stdout",
     "output_type": "stream",
     "text": [
      "              precision    recall  f1-score   support\n",
      "\n",
      "        hate       0.65      0.44      0.53       153\n",
      "     offense       0.90      0.91      0.90       778\n",
      "     neither       0.87      0.94      0.90       428\n",
      "\n",
      "    accuracy                           0.87      1359\n",
      "   macro avg       0.80      0.76      0.78      1359\n",
      "weighted avg       0.86      0.87      0.86      1359\n",
      "\n"
     ]
    }
   ],
   "source": [
    "print(classification_report(y_val, svm_clf.predict(X_val), target_names=['hate', 'offense', 'neither']))"
   ]
  },
  {
   "cell_type": "code",
   "execution_count": 82,
   "id": "9bdba552",
   "metadata": {},
   "outputs": [],
   "source": [
    "new_row = pd.Series(['TDSTEMSVM', 0.87, 0.53, 0.86], index=['model', 'accuracy', 'f1:hate', 'weighted_F1'])\n",
    "results = results.append(new_row, ignore_index=True)"
   ]
  },
  {
   "cell_type": "markdown",
   "id": "be3ee9f2",
   "metadata": {},
   "source": [
    "# Trying the model on the test set"
   ]
  },
  {
   "cell_type": "code",
   "execution_count": 83,
   "id": "6c7e16d5",
   "metadata": {},
   "outputs": [
    {
     "name": "stdout",
     "output_type": "stream",
     "text": [
      "         model  accuracy  f1:hate  weighted_F1\n",
      "0       CVDT35      0.87     0.53         0.86\n",
      "1         CVRF      0.87     0.52         0.86\n",
      "2     CVSTEMDT      0.86     0.51         0.86\n",
      "3     CVSTEMRF      0.87     0.51         0.86\n",
      "4     CVSTEMNB      0.82     0.29         0.80\n",
      "5  CVSTEMSVM01      0.87     0.53         0.86\n",
      "6     TDSTEMDT      0.86     0.54         0.86\n",
      "7     TDSTEMRF      0.87     0.52         0.86\n",
      "8     CVSTEMNB      0.78     0.43         0.79\n",
      "9    TDSTEMSVM      0.87     0.53         0.86\n"
     ]
    }
   ],
   "source": [
    "print(results)"
   ]
  },
  {
   "cell_type": "code",
   "execution_count": 84,
   "id": "ae14d63f",
   "metadata": {},
   "outputs": [
    {
     "name": "stdout",
     "output_type": "stream",
     "text": [
      "              precision    recall  f1-score   support\n",
      "\n",
      "        hate       0.50      0.41      0.46       135\n",
      "     offense       0.92      0.89      0.90       809\n",
      "     neither       0.85      0.94      0.90       416\n",
      "\n",
      "    accuracy                           0.86      1360\n",
      "   macro avg       0.76      0.75      0.75      1360\n",
      "weighted avg       0.86      0.86      0.86      1360\n",
      "\n"
     ]
    }
   ],
   "source": [
    "# As this is supposed to be hate speech classifier we would prefer the model with the best 'f1:hate' score. \n",
    "# That is the Decision Tree with TfidfVectorizer and Stemming\n",
    "# As it is on our last version of dataset we can just predict with it\n",
    "\n",
    "\n",
    "print(classification_report(y_test, dt_clf.predict(X_test), target_names=['hate', 'offense', 'neither']))"
   ]
  },
  {
   "cell_type": "code",
   "execution_count": 85,
   "id": "347eed6c",
   "metadata": {},
   "outputs": [],
   "source": [
    "# As a conclusion, it seems that tree-based classifiers do the best job in case of \n",
    "# hate speech classification (excluding Neural Networks which would most probably give better results)"
   ]
  }
 ],
 "metadata": {
  "kernelspec": {
   "display_name": "Python 3 (ipykernel)",
   "language": "python",
   "name": "python3"
  },
  "language_info": {
   "codemirror_mode": {
    "name": "ipython",
    "version": 3
   },
   "file_extension": ".py",
   "mimetype": "text/x-python",
   "name": "python",
   "nbconvert_exporter": "python",
   "pygments_lexer": "ipython3",
   "version": "3.11.4"
  }
 },
 "nbformat": 4,
 "nbformat_minor": 5
}
